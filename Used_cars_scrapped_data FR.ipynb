{
 "cells": [
  {
   "cell_type": "markdown",
   "metadata": {},
   "source": [
    "# FLIP ROBO TECHNOLOGIES\n",
    "\n",
    "# USED CAR PRICE PREDICTION"
   ]
  },
  {
   "cell_type": "markdown",
   "metadata": {},
   "source": [
    "# Scrapping of data related to used cars"
   ]
  },
  {
   "cell_type": "code",
   "execution_count": 1,
   "metadata": {},
   "outputs": [],
   "source": [
    "# Importing Libraries/Dependencies\n",
    "import selenium\n",
    "import pandas as pd\n",
    "import numpy as np\n",
    "import time\n",
    "from bs4 import BeautifulSoup\n",
    "from selenium import webdriver \n",
    "import requests\n",
    "import re\n",
    "from selenium.webdriver.support.ui import WebDriverWait\n",
    "from selenium.common.exceptions import StaleElementReferenceException, NoSuchElementException\n",
    "import warnings\n",
    "warnings.filterwarnings('ignore')"
   ]
  },
  {
   "cell_type": "code",
   "execution_count": 2,
   "metadata": {},
   "outputs": [],
   "source": [
    "# Connecting to the webdriver\n",
    "driver = webdriver.Chrome('chromedriver.exe')"
   ]
  },
  {
   "cell_type": "code",
   "execution_count": 3,
   "metadata": {},
   "outputs": [],
   "source": [
    "# Getting the webpage of mentioned url\n",
    "page_url = \"https://www.cardekho.com/\"\n",
    "driver.get(page_url)\n",
    "driver.maximize_window()\n",
    "time.sleep(3)"
   ]
  },
  {
   "cell_type": "code",
   "execution_count": 4,
   "metadata": {},
   "outputs": [],
   "source": [
    "# Fetching urls to navigate used cars page \n",
    "usedcars = driver.find_element(By.XPATH,\"/html/body/div[2]/div/header/div[2]/div/div/nav/ul/li[2]/ul/li[2]/a\")"
   ]
  },
  {
   "cell_type": "code",
   "execution_count": 5,
   "metadata": {},
   "outputs": [],
   "source": [
    "# Getting used car page urls\n",
    "usedcars = usedcars.get_attribute('href')"
   ]
  },
  {
   "cell_type": "code",
   "execution_count": 6,
   "metadata": {},
   "outputs": [
    {
     "data": {
      "text/plain": [
       "'https://www.cardekho.com/used-cars+in+india'"
      ]
     },
     "execution_count": 6,
     "metadata": {},
     "output_type": "execute_result"
    }
   ],
   "source": [
    "usedcars"
   ]
  },
  {
   "cell_type": "code",
   "execution_count": 7,
   "metadata": {},
   "outputs": [],
   "source": [
    "# Getting used cars urls\n",
    "driver.get(usedcars)\n",
    "time.sleep(3)"
   ]
  },
  {
   "cell_type": "code",
   "execution_count": 8,
   "metadata": {},
   "outputs": [],
   "source": [
    "cities=driver.find_elements(By.XPATH,'//a[@class=\"CityIconBoxCard\"]')\n",
    "city=[]"
   ]
  },
  {
   "cell_type": "code",
   "execution_count": 10,
   "metadata": {},
   "outputs": [],
   "source": [
    "for i in cities:\n",
    "    city.append(i.get_attribute('href'))"
   ]
  },
  {
   "cell_type": "code",
   "execution_count": 11,
   "metadata": {},
   "outputs": [
    {
     "data": {
      "text/plain": [
       "['https://www.cardekho.com/used-cars+in+ahmedabad',\n",
       " 'https://www.cardekho.com/used-cars+in+bangalore',\n",
       " 'https://www.cardekho.com/used-cars+in+mumbai',\n",
       " 'https://www.cardekho.com/used-cars+in+jaipur',\n",
       " 'https://www.cardekho.com/used-cars+in+gurgaon',\n",
       " 'https://www.cardekho.com/used-cars+in+delhi-ncr',\n",
       " 'https://www.cardekho.com/used-cars+in+chennai',\n",
       " 'https://www.cardekho.com/used-cars+in+pune',\n",
       " 'https://www.cardekho.com/used-cars+in+hyderabad',\n",
       " 'https://www.cardekho.com/used-cars+in+kolkata',\n",
       " 'https://www.cardekho.com/used-cars+in+agra',\n",
       " 'https://www.cardekho.com/used-cars+in+lucknow']"
      ]
     },
     "execution_count": 11,
     "metadata": {},
     "output_type": "execute_result"
    }
   ],
   "source": [
    "city"
   ]
  },
  {
   "cell_type": "code",
   "execution_count": null,
   "metadata": {},
   "outputs": [],
   "source": [
    "Carbrand = []\n",
    "carprice = []\n",
    "kmsdriven = []\n",
    "fuel = []\n",
    "transmission = []\n",
    "cars=[]\n",
    "for i in city:\n",
    "    driver.get(i)\n",
    "    time.sleep(1)\n",
    "    for i in range(100):\n",
    "        driver.execute_script(\"window.scrollTo(0,1500);\")\n",
    "\n",
    "        driver.execute_script(\"window.scrollTo(0, document.body.scrollHeight)\")\n",
    "        time.sleep(3)\n",
    "    \n",
    "    for j in driver.find_elements(By.XPATH,'//div[@class=\"gsc_col-xs-7  carsName\"]//a'):\n",
    "        cars.append(j.get_attribute('href'))\n",
    "        Carbrand.append(j.text)\n",
    "    # Fetching price of the cars\n",
    "    for i in driver.find_elements(By.XPATH,'//span[@class=\"amnt \"]'):\n",
    "        carprice.append(i.text)\n",
    "    \n",
    "    # Fetching driven kilometers of the used cars\n",
    "    for i in driver.find_elements(By.XPATH,'//div[@class=\"truncate dotlist-2\"]//div[1]'):\n",
    "        kmsdriven.append(i.text)\n",
    "    \n",
    "    # Fetching fuel type of the cars\n",
    "    for i in driver.find_elements(By.XPATH,'//div[@class=\"truncate dotlist-2\"]//div[2]'):\n",
    "        fuel.append(i.text)\n",
    "    \n",
    "    # Fetching transmission of the cars\n",
    "    for i in driver.find_elements(By.XPATH,'//div[@class=\"truncate dotlist-2\"]//div[3]'):\n",
    "        transmission.append(i.text)"
   ]
  },
  {
   "cell_type": "code",
   "execution_count": 19,
   "metadata": {},
   "outputs": [
    {
     "data": {
      "text/plain": [
       "(5770, 5770, 5770, 5770, 5770, 5770)"
      ]
     },
     "execution_count": 19,
     "metadata": {},
     "output_type": "execute_result"
    }
   ],
   "source": [
    "len(cars),len(Carbrand),len(carprice),len(kmsdriven),len(fuel),len(transmission)"
   ]
  },
  {
   "cell_type": "code",
   "execution_count": 22,
   "metadata": {},
   "outputs": [],
   "source": [
    "# Creating empty list to scrap the specification of the used cars\n",
    "seats = []\n",
    "milage = []\n",
    "color = []\n",
    "max_power = []\n",
    "front_brake = []\n",
    "rear_brake = []\n",
    "cargo_vol = []\n",
    "height = []\n",
    "width = []\n",
    "length = []\n",
    "weight = []\n",
    "insp_score = []\n",
    "top_speed = []\n",
    "engine_disp=[]"
   ]
  },
  {
   "cell_type": "code",
   "execution_count": 23,
   "metadata": {},
   "outputs": [
    {
     "ename": "KeyboardInterrupt",
     "evalue": "",
     "output_type": "error",
     "traceback": [
      "\u001b[1;31m---------------------------------------------------------------------------\u001b[0m",
      "\u001b[1;31mKeyboardInterrupt\u001b[0m                         Traceback (most recent call last)",
      "\u001b[1;32mC:\\Users\\RAVISA~1\\AppData\\Local\\Temp/ipykernel_22808/1970535517.py\u001b[0m in \u001b[0;36m<module>\u001b[1;34m\u001b[0m\n\u001b[0;32m      9\u001b[0m         \u001b[0mdriver\u001b[0m\u001b[1;33m.\u001b[0m\u001b[0mexecute_script\u001b[0m\u001b[1;33m(\u001b[0m\u001b[1;34m\"arguments[0].scrollIntoView();\"\u001b[0m\u001b[1;33m,\u001b[0m \u001b[0mview_more\u001b[0m\u001b[1;33m)\u001b[0m\u001b[1;33m\u001b[0m\u001b[1;33m\u001b[0m\u001b[0m\n\u001b[0;32m     10\u001b[0m         \u001b[0mdriver\u001b[0m\u001b[1;33m.\u001b[0m\u001b[0mexecute_script\u001b[0m\u001b[1;33m(\u001b[0m\u001b[1;34m\"arguments[0].click();\"\u001b[0m\u001b[1;33m,\u001b[0m \u001b[0mview_more\u001b[0m\u001b[1;33m)\u001b[0m\u001b[1;33m\u001b[0m\u001b[1;33m\u001b[0m\u001b[0m\n\u001b[1;32m---> 11\u001b[1;33m         \u001b[0mtime\u001b[0m\u001b[1;33m.\u001b[0m\u001b[0msleep\u001b[0m\u001b[1;33m(\u001b[0m\u001b[1;36m2\u001b[0m\u001b[1;33m)\u001b[0m\u001b[1;33m\u001b[0m\u001b[1;33m\u001b[0m\u001b[0m\n\u001b[0m\u001b[0;32m     12\u001b[0m     \u001b[1;32mexcept\u001b[0m \u001b[0mNoSuchElementException\u001b[0m\u001b[1;33m:\u001b[0m\u001b[1;33m\u001b[0m\u001b[1;33m\u001b[0m\u001b[0m\n\u001b[0;32m     13\u001b[0m         \u001b[1;32mpass\u001b[0m\u001b[1;33m\u001b[0m\u001b[1;33m\u001b[0m\u001b[0m\n",
      "\u001b[1;31mKeyboardInterrupt\u001b[0m: "
     ]
    }
   ],
   "source": [
    "# for loop to get car urls\n",
    "for i in cars:\n",
    "    driver.get(i)\n",
    "    time.sleep(2)\n",
    "    \n",
    "    # Clicking on view all specifications button to view more features of the cars\n",
    "    try:\n",
    "        view_more = driver.find_element(By.XPATH,\"//*[text() = 'View All Specifications' or text() = 'View More']\")\n",
    "        driver.execute_script(\"arguments[0].scrollIntoView();\", view_more)\n",
    "        driver.execute_script(\"arguments[0].click();\", view_more)\n",
    "        time.sleep(2)\n",
    "    except NoSuchElementException:\n",
    "        pass\n",
    "    \n",
    "    # Fetching engine displacement of the cars\n",
    "    try:\n",
    "        eng = driver.find_element(By.XPATH,\"//*[text()='Engine']/following-sibling::div\") \n",
    "        engine_disp.append(eng.text.replace('CC',''))\n",
    "    except NoSuchElementException:\n",
    "        engine_disp.append('-')\n",
    "    \n",
    "    # Fetching Mileage of the cars\n",
    "    try:\n",
    "        mil = driver.find_element(By.XPATH,\"//*[text()='Mileage']/following-sibling::div\")\n",
    "        milage.append(mil.text.split(\" \")[0])\n",
    "    except NoSuchElementException:\n",
    "        milage.append('-')\n",
    "        \n",
    "    # Fetching seating capacity of the cars\n",
    "    try:\n",
    "        sts = driver.find_element(By.XPATH,\"//*[text()='Seating Capacity']/following-sibling::div\")\n",
    "        seats.append(sts.text)\n",
    "    except NoSuchElementException:\n",
    "        seats.append('-')\n",
    "        \n",
    "    # Fetching colour of the cars\n",
    "    try:\n",
    "        clr = driver.find_element(By.XPATH,\"//*[text()='Color']/following-sibling::div\")\n",
    "        color.append(clr.text)\n",
    "    except NoSuchElementException:\n",
    "        color.append('-')\n",
    "        \n",
    "    # Fetching Maximum power of the cars\n",
    "    try:\n",
    "        pwr = driver.find_element(By.XPATH,\"//*[text()='Max Power']/following-sibling::div\")\n",
    "        max_power.append(pwr.text.replace('bhp',''))\n",
    "    except NoSuchElementException:\n",
    "        max_power.append('-')\n",
    "        \n",
    "    # Fetching Front brake type of the cars\n",
    "    try:\n",
    "        fbrk = driver.find_element(By.XPATH,\"//*[text()='Front Brake Type']/following-sibling::div\")\n",
    "        front_brake.append(fbrk.text)\n",
    "    except NoSuchElementException:\n",
    "        front_brake.append('-')\n",
    "        \n",
    "    # Fetching rear brake type of the cars\n",
    "    try:\n",
    "        rbrk = driver.find_element(By.XPATH,\"//*[text()='Rear Brake Type']/following-sibling::div\")\n",
    "        rear_brake.append(rbrk.text)\n",
    "    except NoSuchElementException:\n",
    "        rear_brake.append('-')\n",
    "        \n",
    "    # Fetching details of cargo volume of the cars\n",
    "    try:\n",
    "        vol = driver.find_element(By.XPATH,\"//*[text()='Cargo Volumn']/following-sibling::div\")\n",
    "        cargo_vol.append(vol.text)\n",
    "    except NoSuchElementException:\n",
    "        cargo_vol.append('-')\n",
    "        \n",
    "    # Fetching top speed of the cars\n",
    "    try:\n",
    "        speed = driver.find_element(By.XPATH,\"//*[text()='Top Speed']/following-sibling::div\")\n",
    "        top_speed.append(speed.text)\n",
    "    except NoSuchElementException:\n",
    "        top_speed.append('-')\n",
    "        \n",
    "    # Fetching height of the cars\n",
    "    try:\n",
    "        hgt = driver.find_element(By.XPATH,\"//*[text()='Height']/following-sibling::div\")\n",
    "        height.append(hgt.text.replace('mm',''))\n",
    "    except NoSuchElementException:\n",
    "        height.append('-')\n",
    "        \n",
    "    # Fetching width of the cars\n",
    "    try:\n",
    "        wth = driver.find_element(By.XPATH,\"//*[text()='Width']/following-sibling::div\")\n",
    "        width.append(wth.text.replace('mm',''))\n",
    "    except NoSuchElementException:\n",
    "        width.append('-')\n",
    "        \n",
    "    # Fetching length of the cars\n",
    "    try:\n",
    "        lth = driver.find_element(By.XPATH,\"//*[text()='Length']/following-sibling::div\")\n",
    "        length.append(lth.text.replace('mm',''))\n",
    "    except NoSuchElementException:\n",
    "        length.append('-')\n",
    "        \n",
    "    # Fetching gross weight of the cars\n",
    "    try:\n",
    "        weigh = driver.find_element(By.XPATH,\"//*[text()='Gross Weight']/following-sibling::div\")\n",
    "        weight.append(weigh.text.replace('kg',''))\n",
    "    except NoSuchElementException:\n",
    "        weight.append('-')\n",
    "        \n",
    "    # Fetching Inspection score of the cars\n",
    "    try:\n",
    "        insp = driver.find_element(By.XPATH,\"//div[@class='inspectionRating right-side gsc_col-xs-5 text-right']/span\")\n",
    "        insp_score.append(insp.text)\n",
    "    except NoSuchElementException:\n",
    "        insp_score.append('-')"
   ]
  },
  {
   "cell_type": "code",
   "execution_count": 24,
   "metadata": {},
   "outputs": [
    {
     "name": "stdout",
     "output_type": "stream",
     "text": [
      "5690 5690 5690 5690 5690 5690 5690 5690 5690 5690 5690 5690 5690 5690\n"
     ]
    }
   ],
   "source": [
    "# Printing lengths of all the features\n",
    "print(len(seats),len(engine_disp),len(milage),len(color),len(max_power),len(front_brake),len(rear_brake),len(cargo_vol),len(height),len(width),len(length),len(weight),len(insp_score),len(top_speed))"
   ]
  },
  {
   "cell_type": "markdown",
   "metadata": {},
   "source": [
    "All the features have same length."
   ]
  },
  {
   "cell_type": "code",
   "execution_count": 25,
   "metadata": {},
   "outputs": [
    {
     "data": {
      "text/html": [
       "<div>\n",
       "<style scoped>\n",
       "    .dataframe tbody tr th:only-of-type {\n",
       "        vertical-align: middle;\n",
       "    }\n",
       "\n",
       "    .dataframe tbody tr th {\n",
       "        vertical-align: top;\n",
       "    }\n",
       "\n",
       "    .dataframe thead th {\n",
       "        text-align: right;\n",
       "    }\n",
       "</style>\n",
       "<table border=\"1\" class=\"dataframe\">\n",
       "  <thead>\n",
       "    <tr style=\"text-align: right;\">\n",
       "      <th></th>\n",
       "      <th>Car_Name</th>\n",
       "      <th>Fuel_type</th>\n",
       "      <th>Kilometers</th>\n",
       "      <th>Engine_disp</th>\n",
       "      <th>Gear_type</th>\n",
       "      <th>Milage_in_km/ltr</th>\n",
       "      <th>Seating_cap</th>\n",
       "      <th>color</th>\n",
       "      <th>Max_power</th>\n",
       "      <th>front_brake_type</th>\n",
       "      <th>rear_brake_type</th>\n",
       "      <th>cargo_volume</th>\n",
       "      <th>height</th>\n",
       "      <th>width</th>\n",
       "      <th>length</th>\n",
       "      <th>Weight</th>\n",
       "      <th>Insp_score</th>\n",
       "      <th>top_speed</th>\n",
       "      <th>Car_price</th>\n",
       "    </tr>\n",
       "  </thead>\n",
       "  <tbody>\n",
       "    <tr>\n",
       "      <th>0</th>\n",
       "      <td>2016 Honda Jazz</td>\n",
       "      <td>Petrol</td>\n",
       "      <td>39,821 kms</td>\n",
       "      <td>1199</td>\n",
       "      <td>Automatic</td>\n",
       "      <td>17.1</td>\n",
       "      <td>5</td>\n",
       "      <td>Golden Brown Metallic</td>\n",
       "      <td>88.50</td>\n",
       "      <td>Disc</td>\n",
       "      <td>Drum</td>\n",
       "      <td>354</td>\n",
       "      <td>1544</td>\n",
       "      <td>1694</td>\n",
       "      <td>3989</td>\n",
       "      <td>-</td>\n",
       "      <td>9</td>\n",
       "      <td>-</td>\n",
       "      <td>6.28 Lakh</td>\n",
       "    </tr>\n",
       "    <tr>\n",
       "      <th>1</th>\n",
       "      <td>2018 Mahindra Marazzo</td>\n",
       "      <td>Diesel</td>\n",
       "      <td>41,071 kms</td>\n",
       "      <td>1497</td>\n",
       "      <td>Manual</td>\n",
       "      <td>17.3</td>\n",
       "      <td>7</td>\n",
       "      <td>Aqua Marine</td>\n",
       "      <td>121</td>\n",
       "      <td>Disc</td>\n",
       "      <td>Disc</td>\n",
       "      <td>190</td>\n",
       "      <td>1774</td>\n",
       "      <td>1866</td>\n",
       "      <td>4585</td>\n",
       "      <td>-</td>\n",
       "      <td>9.5</td>\n",
       "      <td>145kmph</td>\n",
       "      <td>10.15 Lakh</td>\n",
       "    </tr>\n",
       "    <tr>\n",
       "      <th>2</th>\n",
       "      <td>2015 Hyundai Grand i10</td>\n",
       "      <td>Petrol</td>\n",
       "      <td>67,525 kms</td>\n",
       "      <td>1197</td>\n",
       "      <td>Manual</td>\n",
       "      <td>18.9</td>\n",
       "      <td>5</td>\n",
       "      <td>Pure white</td>\n",
       "      <td>82</td>\n",
       "      <td>Disc</td>\n",
       "      <td>Drum</td>\n",
       "      <td>256-liters</td>\n",
       "      <td>1520</td>\n",
       "      <td>1660</td>\n",
       "      <td>3765</td>\n",
       "      <td>-</td>\n",
       "      <td>7.5</td>\n",
       "      <td>165 Kmph</td>\n",
       "      <td>4.51 Lakh</td>\n",
       "    </tr>\n",
       "    <tr>\n",
       "      <th>3</th>\n",
       "      <td>2019 Jeep Compass</td>\n",
       "      <td>Petrol</td>\n",
       "      <td>32,294 kms</td>\n",
       "      <td>1368</td>\n",
       "      <td>Automatic</td>\n",
       "      <td>16</td>\n",
       "      <td>5</td>\n",
       "      <td>Grey</td>\n",
       "      <td>160.77</td>\n",
       "      <td>Disc</td>\n",
       "      <td>Discs</td>\n",
       "      <td>408-litres</td>\n",
       "      <td>1640</td>\n",
       "      <td>1818</td>\n",
       "      <td>4395</td>\n",
       "      <td>-</td>\n",
       "      <td>9.5</td>\n",
       "      <td>186.69 kmph</td>\n",
       "      <td>16.78 Lakh</td>\n",
       "    </tr>\n",
       "    <tr>\n",
       "      <th>4</th>\n",
       "      <td>2016 Honda City</td>\n",
       "      <td>Petrol</td>\n",
       "      <td>25,542 kms</td>\n",
       "      <td>1497</td>\n",
       "      <td>Manual</td>\n",
       "      <td>17.8</td>\n",
       "      <td>5</td>\n",
       "      <td>Golden</td>\n",
       "      <td>117.3</td>\n",
       "      <td>Disc</td>\n",
       "      <td>Drum</td>\n",
       "      <td>510-litres</td>\n",
       "      <td>1495</td>\n",
       "      <td>1695</td>\n",
       "      <td>4440</td>\n",
       "      <td>-</td>\n",
       "      <td>8.5</td>\n",
       "      <td>195 Kmph</td>\n",
       "      <td>7.33 Lakh</td>\n",
       "    </tr>\n",
       "  </tbody>\n",
       "</table>\n",
       "</div>"
      ],
      "text/plain": [
       "                 Car_Name Fuel_type  Kilometers Engine_disp  Gear_type  \\\n",
       "0         2016 Honda Jazz    Petrol  39,821 kms       1199   Automatic   \n",
       "1   2018 Mahindra Marazzo    Diesel  41,071 kms       1497      Manual   \n",
       "2  2015 Hyundai Grand i10    Petrol  67,525 kms       1197      Manual   \n",
       "3       2019 Jeep Compass    Petrol  32,294 kms       1368   Automatic   \n",
       "4         2016 Honda City    Petrol  25,542 kms       1497      Manual   \n",
       "\n",
       "  Milage_in_km/ltr Seating_cap                  color Max_power  \\\n",
       "0             17.1           5  Golden Brown Metallic     88.50   \n",
       "1             17.3           7            Aqua Marine       121   \n",
       "2             18.9           5             Pure white        82   \n",
       "3               16           5                   Grey    160.77   \n",
       "4             17.8           5                 Golden     117.3   \n",
       "\n",
       "  front_brake_type rear_brake_type cargo_volume height  width length Weight  \\\n",
       "0             Disc            Drum          354   1544   1694   3989      -   \n",
       "1             Disc            Disc          190  1774   1866   4585       -   \n",
       "2             Disc            Drum   256-liters   1520   1660   3765      -   \n",
       "3             Disc           Discs   408-litres   1640   1818   4395      -   \n",
       "4             Disc            Drum   510-litres   1495   1695   4440      -   \n",
       "\n",
       "  Insp_score    top_speed   Car_price  \n",
       "0          9            -   6.28 Lakh  \n",
       "1        9.5      145kmph  10.15 Lakh  \n",
       "2        7.5     165 Kmph   4.51 Lakh  \n",
       "3        9.5  186.69 kmph  16.78 Lakh  \n",
       "4        8.5     195 Kmph   7.33 Lakh  "
      ]
     },
     "execution_count": 25,
     "metadata": {},
     "output_type": "execute_result"
    }
   ],
   "source": [
    "# Creating a dataframe of scraped data\n",
    "data = list(zip(Carbrand,fuel,kmsdriven,engine_disp,transmission,milage,seats,color,max_power,front_brake,rear_brake,cargo_vol,height,width,length,weight,insp_score,top_speed,carprice))\n",
    "df_car_price = pd.DataFrame(data, columns = [\"Car_Name\",\"Fuel_type\",\"Kilometers\",\"Engine_disp\",\"Gear_type\",\"Milage_in_km/ltr\",\"Seating_cap\",\"color\",\"Max_power\",\"front_brake_type\",\"rear_brake_type\",\"cargo_volume\",\"height\",\"width\",\"length\",\"Weight\",\"Insp_score\",\"top_speed\",\"Car_price\"])\n",
    "df_car_price.head()"
   ]
  },
  {
   "cell_type": "code",
   "execution_count": 26,
   "metadata": {},
   "outputs": [],
   "source": [
    "# Saving the scraped data into excel file\n",
    "df_car_price.to_csv(\"UsedCarsDetails.csv\")"
   ]
  },
  {
   "cell_type": "markdown",
   "metadata": {},
   "source": [
    "Finally we have scraped old cars data for important features from the mentioned website."
   ]
  },
  {
   "cell_type": "markdown",
   "metadata": {},
   "source": [
    "# Done"
   ]
  },
  {
   "cell_type": "code",
   "execution_count": null,
   "metadata": {},
   "outputs": [],
   "source": []
  }
 ],
 "metadata": {
  "kernelspec": {
   "display_name": "Python 3 (ipykernel)",
   "language": "python",
   "name": "python3"
  },
  "language_info": {
   "codemirror_mode": {
    "name": "ipython",
    "version": 3
   },
   "file_extension": ".py",
   "mimetype": "text/x-python",
   "name": "python",
   "nbconvert_exporter": "python",
   "pygments_lexer": "ipython3",
   "version": "3.9.7"
  }
 },
 "nbformat": 4,
 "nbformat_minor": 4
}
